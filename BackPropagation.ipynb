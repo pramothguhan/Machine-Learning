{
  "nbformat": 4,
  "nbformat_minor": 0,
  "metadata": {
    "colab": {
      "name": "BackPropagation.ipynb",
      "provenance": []
    },
    "kernelspec": {
      "name": "python3",
      "display_name": "Python 3"
    },
    "language_info": {
      "name": "python"
    }
  },
  "cells": [
    {
      "cell_type": "code",
      "source": [
        "import numpy as np\n",
        "import math\n",
        "x1=1;x2=0;x3=1\n",
        "bias=np.array([1,1,1])\n",
        "I4 = np.array([bias[0],x1,x2,x3])\n",
        "I5 = np.array([bias[1],x1,x2,x3])\n",
        "Wi4 = np.array([-0.4,0.2,0.4,-0.5])\n",
        "Wi5 = np.array([0.2,-0.3,0.1,0.2])\n",
        "Wjk = np.array([-0.3,-0.2])\n",
        "print(Wi4,Wi5,Wjk)\n",
        "Wbk = 0.1\n",
        "eta = 0.9\n",
        "Ij = np.array([0.0,0.0,0.0],dtype=\"double\")\n",
        "Oj = np.array([0.0,0.0],dtype=\"double\")\n"
      ],
      "metadata": {
        "colab": {
          "base_uri": "https://localhost:8080/"
        },
        "id": "O55uMPHZ8Y08",
        "outputId": "aecced84-6974-4b0c-9577-e09906ae6ae6"
      },
      "execution_count": null,
      "outputs": [
        {
          "output_type": "stream",
          "name": "stdout",
          "text": [
            "[-0.4  0.2  0.4 -0.5] [ 0.2 -0.3  0.1  0.2] [-0.3 -0.2]\n"
          ]
        }
      ]
    },
    {
      "cell_type": "code",
      "source": [
        "Err = np.array([0.0,0.0,0.0],dtype=\"double\")\n",
        "t=1\n",
        "delWjk = np.array([0.0,0.0])\n",
        "delWi4 = np.array([0.0,0.0,0.0],dtype=\"double\")\n",
        "delWi5 = np.array([0.0,0.0,0.0],dtype=\"double\")\n",
        "Ok=0.0\n",
        "for i in range(5):\n",
        " print(\"Epoch!!!! \",(i+1))\n",
        " Ij[0] = x1*Wi4[1]+x2* Wi4[2]+x3*Wi4[3]+bias[0]*Wi4[0]\n",
        " Ij[1] = x1*Wi5[1]+x2* Wi5[2]+x3*Wi5[3]+bias[1]*Wi5[0]\n",
        " Oj[0] = 1/(1+math.exp(-Ij[0]))\n",
        " Oj[1] = 1/(1+math.exp(-Ij[1]))\n",
        " Ij[2] = Oj[0]*Wjk[0]+Oj[1]*Wjk[1]+Wbk*bias[2]\n",
        " Ok= 1/(1+math.exp(-Ij[2]))\n",
        " Err[2] = Ok*(1-Ok)*(t-Ok)\n",
        " Err[1] = Oj[1]*(1-Oj[1])*Err[2]*Wjk[1]\n",
        " Err[0] = Oj[0]*(1-Oj[0])*Err[2]*Wjk[0]\n",
        " delWjk = (eta*Err[2])*Oj\n",
        " delWbk = eta*Err[2]*bias[2]\n",
        " Wbk = Wbk+delWbk\n",
        " Wjk = Wjk+delWjk\n",
        " delWi4 = (eta*Err[0])*I4\n",
        " delWi5 = (eta*Err[1])*I5\n",
        " Wi4 = Wi4 + delWi4\n",
        " Wi5 = Wi5 + delWi5\n",
        " print(\"New Weights:!!!!\")\n",
        " print(\"W46:\",Wjk[0],\"W56:\",Wjk[1])\n",
        " print(\"W14:\",Wi4[1],\"W15:\",Wi5[1])\n",
        " print(\"W24:\",Wi4[2],\"W25:\",Wi5[2])\n",
        " print(\"W34:\",Wi4[3],\"W35:\",Wi5[3])\n",
        " print(\"Wb4:\",Wi4[0],\"Wb5:\",Wi5[0],\"Wb6:\",Wbk)\n"
      ],
      "metadata": {
        "id": "xq3UwvkO8goO",
        "outputId": "03a3f6ff-0883-4a92-e8d2-3432194cf7dc",
        "colab": {
          "base_uri": "https://localhost:8080/"
        }
      },
      "execution_count": null,
      "outputs": [
        {
          "output_type": "stream",
          "name": "stdout",
          "text": [
            "Epoch!!!!  1\n",
            "New Weights:!!!!\n",
            "W46: -0.11515636989375543 W56: 0.09710636857320451\n",
            "W14: 0.17209628837719085 W15: -0.31090085222029373\n",
            "W24: 0.4 W25: 0.1\n",
            "W34: -0.5279037116228092 W35: 0.1890991477797063\n",
            "Wb4: -0.4279037116228092 Wb5: 0.1890991477797063 Wb6: 0.6724245718497925\n",
            "Epoch!!!!  2\n",
            "New Weights:!!!!\n",
            "W46: -0.09411605505962531 W56: 0.13178993837570874\n",
            "W14: 0.1704329994076201 W15: -0.309273497459609\n",
            "W24: 0.4 W25: 0.1\n",
            "W34: -0.5295670005923799 W35: 0.190726502540391\n",
            "Wb4: -0.42956700059237996 Wb5: 0.190726502540391 Wb6: 0.739534403286733\n",
            "Epoch!!!!  3\n",
            "New Weights:!!!!\n",
            "W46: -0.07503426383072001 W56: 0.16342747680653794\n",
            "W14: 0.16919822215234256 W15: -0.30726394847232374\n",
            "W24: 0.4 W25: 0.1\n",
            "W34: -0.5308017778476575 W35: 0.19273605152767626\n",
            "Wb4: -0.4308017778476575 Wb5: 0.19273605152767626 Wb6: 0.8006063645173849\n",
            "Epoch!!!!  4\n",
            "New Weights:!!!!\n",
            "W46: -0.05765072239340831 W56: 0.19240681517820724\n",
            "W14: 0.1683003682676548 W15: -0.30498849007684053\n",
            "W24: 0.4 W25: 0.1\n",
            "W34: -0.5316996317323452 W35: 0.19501150992315947\n",
            "Wb4: -0.43169963173234527 Wb5: 0.19501150992315947 Wb6: 0.8563849810144285\n",
            "Epoch!!!!  5\n",
            "New Weights:!!!!\n",
            "W46: -0.04174208861691477 W56: 0.2190637694195212\n",
            "W14: 0.16766852457631357 W15: -0.302532969682357\n",
            "W24: 0.4 W25: 0.1\n",
            "W34: -0.5323314754236865 W35: 0.197467030317643\n",
            "Wb4: -0.4323314754236865 Wb5: 0.197467030317643 Wb6: 0.9075258297532877\n"
          ]
        }
      ]
    }
  ]
}