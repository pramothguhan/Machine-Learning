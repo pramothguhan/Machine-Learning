{
  "nbformat": 4,
  "nbformat_minor": 0,
  "metadata": {
    "colab": {
      "name": "HebbGate.ipynb",
      "provenance": []
    },
    "kernelspec": {
      "name": "python3",
      "display_name": "Python 3"
    },
    "language_info": {
      "name": "python"
    }
  },
  "cells": [
    {
      "cell_type": "code",
      "execution_count": null,
      "metadata": {
        "colab": {
          "base_uri": "https://localhost:8080/"
        },
        "id": "6a3VC-LzvIVN",
        "outputId": "4638c301-ed74-4cea-c900-b589150c1b90"
      },
      "outputs": [
        {
          "output_type": "stream",
          "name": "stdout",
          "text": [
            "enter the binary value1\n",
            "enter the binary value1\n",
            "enter the binary value1\n",
            "enter the binary value0\n",
            "-2 -2 2\n"
          ]
        }
      ],
      "source": [
        "import numpy as np\n",
        "x1=np.array([-1,-1,1,1])\n",
        "x2=np.array([-1,1,-1,1])\n",
        "xb=np.array([1,1,1,1])\n",
        "w1=np.array([0,0,0,0])\n",
        "w2=np.array([0,0,0,0])\n",
        "w3=np.array([0,0,0,0])\n",
        "y=np.array([])\n",
        "for i in range(4):\n",
        "  x=int(input('enter the binary value'))\n",
        "  if x==0:\n",
        "    y=np.append(y,-1)\n",
        "  else:\n",
        "    y=np.append(y,1)\n",
        "y=np.floor(y)\n",
        "rw1=0\n",
        "rw2=0\n",
        "rwb=0\n",
        "k=0\n",
        "k1=0\n",
        "k2=0\n",
        "for i in range(4):\n",
        "        rw1=x1[i]*y[i]\n",
        "        rw2=x2[i]*y[i]\n",
        "        rwb=xb[i]*y[i]\n",
        "        w1[i]=k+rw1\n",
        "        w2[i]=k1+rw2\n",
        "        w3[i]=k2+rwb\n",
        "        k=w1[i]\n",
        "        k1=w2[i]\n",
        "        k2=w3[i]\n",
        "print(w1[-1],w2[-1],w3[-1])"
      ]
    }
  ]
}