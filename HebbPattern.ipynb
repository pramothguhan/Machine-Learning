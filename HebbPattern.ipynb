{
  "nbformat": 4,
  "nbformat_minor": 0,
  "metadata": {
    "colab": {
      "name": "HebbPattern.ipynb",
      "provenance": []
    },
    "kernelspec": {
      "name": "python3",
      "display_name": "Python 3"
    },
    "language_info": {
      "name": "python"
    }
  },
  "cells": [
    {
      "cell_type": "code",
      "execution_count": null,
      "metadata": {
        "id": "fOJS13vi6GpQ"
      },
      "outputs": [],
      "source": [
        "import numpy as np\n",
        "x1=np.array([[1,1,1],[-1,1,-1],[1,1,1]])\n",
        "x2=np.array([[1,-1,1],[-1,1,-1],[1,-1,1]])\n",
        "y=np.array([1,-1])\n",
        "w=np.zeros(10)\n",
        "w[-1]=1"
      ]
    },
    {
      "cell_type": "code",
      "source": [
        "c=0\n",
        "for i in range(3):\n",
        "    for j in range(3):\n",
        "      w[c]=x1[i,j]*y[0]+x2[i,j]*y[1]\n",
        "      w[-1]=x1[i,j]*y[0]+x2[i,j]*y[1]\n",
        "      c=c+1\n",
        "print(w)"
      ],
      "metadata": {
        "colab": {
          "base_uri": "https://localhost:8080/"
        },
        "id": "OQDF70Vx8AKs",
        "outputId": "a2b42420-5f1c-460c-e27d-2456eac0ef00"
      },
      "execution_count": null,
      "outputs": [
        {
          "output_type": "stream",
          "name": "stdout",
          "text": [
            "[0. 2. 0. 0. 0. 0. 0. 2. 0. 0.]\n"
          ]
        }
      ]
    }
  ]
}