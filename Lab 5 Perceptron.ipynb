{
 "cells": [
  {
   "cell_type": "markdown",
   "metadata": {
    "id": "2K2_XYnriKJz"
   },
   "source": [
    "#### Perceptron (Scratch)"
   ]
  },
  {
   "cell_type": "code",
   "execution_count": 1,
   "metadata": {
    "id": "mngBV7x3u6JI"
   },
   "outputs": [],
   "source": [
    "import numpy as np"
   ]
  },
  {
   "cell_type": "code",
   "execution_count": 2,
   "metadata": {
    "id": "kTMxOMZfvv7O"
   },
   "outputs": [],
   "source": [
    "class PerceptronScratch:\n",
    "    def __init__(self, weights, bias):\n",
    "        self.weights = weights\n",
    "        self.bias = bias\n",
    "    \n",
    "    def train(self, X, Y, n_iteration=10, alpha=0.1, threshold = 0):\n",
    "        for i in range(n_iteration):\n",
    "            print(\"Iteration\", i + 1, \"\\n\")\n",
    "            print(\"{:<5}{:<5}{:<10}{:<10}{:<10}{:<5}{:<5}\".format(\"X1\", \"X2\", \"TARGET\", \"PREDICTED\", \"ERROR\", \"W1\", \"W2\"))\n",
    "            for x, y in zip(X, Y):\n",
    "                result = (self.weights[0] * x[0]) + (self.weights[1] * x[1]) + self.bias\n",
    "                if result > threshold:\n",
    "                    result = 1\n",
    "                else:\n",
    "                    result = 0\n",
    "                \n",
    "                error = y - result\n",
    "                self.weights += alpha * error * x\n",
    "\n",
    "                print(\"{:<5}{:<5}{:<10}{:<10}{:<10}{:<5}{:<5}\".format(x[0], x[1], y, result, error, self.weights[0], self.weights[1]))\n",
    "\n",
    "            y_pred = []\n",
    "\n",
    "            for x, y in zip(X, Y):\n",
    "                result = (self.weights[0] * x[0]) + (self.weights[1] * x[1]) + self.bias\n",
    "                y_pred.append(1 if result > threshold else 0)\n",
    "            \n",
    "            comparision = Y == y_pred\n",
    "\n",
    "            print()\n",
    "\n",
    "            if comparision.all():\n",
    "                break\n"
   ]
  },
  {
   "cell_type": "markdown",
   "metadata": {
    "id": "0SZX2Sdh-qxA"
   },
   "source": [
    "#### AND Gate"
   ]
  },
  {
   "cell_type": "code",
   "execution_count": 3,
   "metadata": {
    "colab": {
     "base_uri": "https://localhost:8080/"
    },
    "id": "d_RXf2gJ_rql",
    "outputId": "403cc05b-b0b7-4c00-95ac-a04c22406002"
   },
   "outputs": [
    {
     "name": "stdout",
     "output_type": "stream",
     "text": [
      "Iteration 1 \n",
      "\n",
      "X1   X2   TARGET    PREDICTED ERROR     W1   W2   \n",
      "0    0    0         0         0         0.3  -0.2 \n",
      "0    1    0         0         0         0.3  -0.2 \n",
      "1    0    0         0         0         0.3  -0.2 \n",
      "1    1    1         0         1         0.4  -0.1 \n",
      "\n",
      "Iteration 2 \n",
      "\n",
      "X1   X2   TARGET    PREDICTED ERROR     W1   W2   \n",
      "0    0    0         0         0         0.4  -0.1 \n",
      "0    1    0         0         0         0.4  -0.1 \n",
      "1    0    0         0         0         0.4  -0.1 \n",
      "1    1    1         0         1         0.5  0.0  \n",
      "\n",
      "Iteration 3 \n",
      "\n",
      "X1   X2   TARGET    PREDICTED ERROR     W1   W2   \n",
      "0    0    0         0         0         0.5  0.0  \n",
      "0    1    0         0         0         0.5  0.0  \n",
      "1    0    0         1         -1        0.4  0.0  \n",
      "1    1    1         0         1         0.5  0.1  \n",
      "\n",
      "Iteration 4 \n",
      "\n",
      "X1   X2   TARGET    PREDICTED ERROR     W1   W2   \n",
      "0    0    0         0         0         0.5  0.1  \n",
      "0    1    0         0         0         0.5  0.1  \n",
      "1    0    0         1         -1        0.4  0.1  \n",
      "1    1    1         1         0         0.4  0.1  \n",
      "\n"
     ]
    }
   ],
   "source": [
    "model_and = PerceptronScratch(weights=[0.3, -0.2], bias=-0.4)\n",
    "\n",
    "x = np.array([[0, 0], [0, 1], [1, 0], [1, 1]])\n",
    "y = np.array([0, 0, 0, 1])\n",
    "\n",
    "model_and.train(x, y)"
   ]
  },
  {
   "cell_type": "markdown",
   "metadata": {
    "id": "e0JT3hpk_Zeo"
   },
   "source": [
    "#### OR Gate"
   ]
  },
  {
   "cell_type": "code",
   "execution_count": 4,
   "metadata": {
    "colab": {
     "base_uri": "https://localhost:8080/"
    },
    "id": "Lb7SaTAGyyDu",
    "outputId": "ed849c6f-e93b-4037-aa80-e57c79862421"
   },
   "outputs": [
    {
     "name": "stdout",
     "output_type": "stream",
     "text": [
      "Iteration 1 \n",
      "\n",
      "X1   X2   TARGET    PREDICTED ERROR     W1   W2   \n",
      "0    0    0         0         0         0.3  -0.2 \n",
      "0    1    1         0         1         0.3  -0.1 \n",
      "1    0    1         0         1         0.4  -0.1 \n",
      "1    1    1         0         1         0.5  0.0  \n",
      "\n",
      "Iteration 2 \n",
      "\n",
      "X1   X2   TARGET    PREDICTED ERROR     W1   W2   \n",
      "0    0    0         0         0         0.5  0.0  \n",
      "0    1    1         0         1         0.5  0.1  \n",
      "1    0    1         1         0         0.5  0.1  \n",
      "1    1    1         1         0         0.5  0.1  \n",
      "\n",
      "Iteration 3 \n",
      "\n",
      "X1   X2   TARGET    PREDICTED ERROR     W1   W2   \n",
      "0    0    0         0         0         0.5  0.1  \n",
      "0    1    1         0         1         0.5  0.2  \n",
      "1    0    1         1         0         0.5  0.2  \n",
      "1    1    1         1         0         0.5  0.2  \n",
      "\n",
      "Iteration 4 \n",
      "\n",
      "X1   X2   TARGET    PREDICTED ERROR     W1   W2   \n",
      "0    0    0         0         0         0.5  0.2  \n",
      "0    1    1         0         1         0.5  0.30000000000000004\n",
      "1    0    1         1         0         0.5  0.30000000000000004\n",
      "1    1    1         1         0         0.5  0.30000000000000004\n",
      "\n",
      "Iteration 5 \n",
      "\n",
      "X1   X2   TARGET    PREDICTED ERROR     W1   W2   \n",
      "0    0    0         0         0         0.5  0.30000000000000004\n",
      "0    1    1         0         1         0.5  0.4  \n",
      "1    0    1         1         0         0.5  0.4  \n",
      "1    1    1         1         0         0.5  0.4  \n",
      "\n",
      "Iteration 6 \n",
      "\n",
      "X1   X2   TARGET    PREDICTED ERROR     W1   W2   \n",
      "0    0    0         0         0         0.5  0.4  \n",
      "0    1    1         0         1         0.5  0.5  \n",
      "1    0    1         1         0         0.5  0.5  \n",
      "1    1    1         1         0         0.5  0.5  \n",
      "\n"
     ]
    }
   ],
   "source": [
    "model_or = PerceptronScratch(weights=[0.3, -0.2], bias=-0.4)\n",
    "\n",
    "x = np.array([[0, 0], [0, 1], [1, 0], [1, 1]])\n",
    "y = np.array([0, 1, 1, 1])\n",
    "\n",
    "model_or.train(x, y)"
   ]
  },
  {
   "cell_type": "markdown",
   "metadata": {
    "id": "F99VN99D_9jh"
   },
   "source": [
    "#### NAND Gate"
   ]
  },
  {
   "cell_type": "code",
   "execution_count": 5,
   "metadata": {
    "colab": {
     "base_uri": "https://localhost:8080/"
    },
    "id": "G1cKjaBQ__sY",
    "outputId": "9b13cc07-aa10-4d45-e893-fa37fd8b52b9"
   },
   "outputs": [
    {
     "name": "stdout",
     "output_type": "stream",
     "text": [
      "Iteration 1 \n",
      "\n",
      "X1   X2   TARGET    PREDICTED ERROR     W1   W2   \n",
      "0    0    1         1         0         -0.3 0.2  \n",
      "0    1    1         1         0         -0.3 0.2  \n",
      "1    0    1         1         0         -0.3 0.2  \n",
      "1    1    0         1         -1        -0.4 0.1  \n",
      "\n",
      "Iteration 2 \n",
      "\n",
      "X1   X2   TARGET    PREDICTED ERROR     W1   W2   \n",
      "0    0    1         1         0         -0.4 0.1  \n",
      "0    1    1         1         0         -0.4 0.1  \n",
      "1    0    1         0         1         -0.300000000000000040.1  \n",
      "1    1    0         1         -1        -0.4 0.0  \n",
      "\n",
      "Iteration 3 \n",
      "\n",
      "X1   X2   TARGET    PREDICTED ERROR     W1   W2   \n",
      "0    0    1         1         0         -0.4 0.0  \n",
      "0    1    1         1         0         -0.4 0.0  \n",
      "1    0    1         0         1         -0.300000000000000040.0  \n",
      "1    1    0         1         -1        -0.4 -0.1 \n",
      "\n",
      "Iteration 4 \n",
      "\n",
      "X1   X2   TARGET    PREDICTED ERROR     W1   W2   \n",
      "0    0    1         1         0         -0.4 -0.1 \n",
      "0    1    1         1         0         -0.4 -0.1 \n",
      "1    0    1         0         1         -0.30000000000000004-0.1 \n",
      "1    1    0         0         0         -0.30000000000000004-0.1 \n",
      "\n"
     ]
    }
   ],
   "source": [
    "model_nand = PerceptronScratch(weights=[-0.3, 0.2], bias=0.4)\n",
    "\n",
    "x = np.array([[0, 0], [0, 1], [1, 0], [1, 1]])\n",
    "y = np.array([1, 1, 1, 0])\n",
    "\n",
    "model_nand.train(x, y)"
   ]
  },
  {
   "cell_type": "markdown",
   "metadata": {
    "id": "7C7Rx7DyAP24"
   },
   "source": [
    "#### NOR"
   ]
  },
  {
   "cell_type": "code",
   "execution_count": 6,
   "metadata": {
    "colab": {
     "base_uri": "https://localhost:8080/"
    },
    "id": "3TbNLz21AQ_Y",
    "outputId": "61cc0aca-8ec0-4b25-c877-303f3d30a945"
   },
   "outputs": [
    {
     "name": "stdout",
     "output_type": "stream",
     "text": [
      "Iteration 1 \n",
      "\n",
      "X1   X2   TARGET    PREDICTED ERROR     W1   W2   \n",
      "0    0    1         1         0         -0.3 0.2  \n",
      "0    1    0         1         -1        -0.3 0.1  \n",
      "1    0    0         1         -1        -0.4 0.1  \n",
      "1    1    0         1         -1        -0.5 0.0  \n",
      "\n",
      "Iteration 2 \n",
      "\n",
      "X1   X2   TARGET    PREDICTED ERROR     W1   W2   \n",
      "0    0    1         1         0         -0.5 0.0  \n",
      "0    1    0         1         -1        -0.5 -0.1 \n",
      "1    0    0         0         0         -0.5 -0.1 \n",
      "1    1    0         0         0         -0.5 -0.1 \n",
      "\n",
      "Iteration 3 \n",
      "\n",
      "X1   X2   TARGET    PREDICTED ERROR     W1   W2   \n",
      "0    0    1         1         0         -0.5 -0.1 \n",
      "0    1    0         1         -1        -0.5 -0.2 \n",
      "1    0    0         0         0         -0.5 -0.2 \n",
      "1    1    0         0         0         -0.5 -0.2 \n",
      "\n",
      "Iteration 4 \n",
      "\n",
      "X1   X2   TARGET    PREDICTED ERROR     W1   W2   \n",
      "0    0    1         1         0         -0.5 -0.2 \n",
      "0    1    0         1         -1        -0.5 -0.30000000000000004\n",
      "1    0    0         0         0         -0.5 -0.30000000000000004\n",
      "1    1    0         0         0         -0.5 -0.30000000000000004\n",
      "\n",
      "Iteration 5 \n",
      "\n",
      "X1   X2   TARGET    PREDICTED ERROR     W1   W2   \n",
      "0    0    1         1         0         -0.5 -0.30000000000000004\n",
      "0    1    0         1         -1        -0.5 -0.4 \n",
      "1    0    0         0         0         -0.5 -0.4 \n",
      "1    1    0         0         0         -0.5 -0.4 \n",
      "\n"
     ]
    }
   ],
   "source": [
    "model_nor = PerceptronScratch(weights=[-0.3, 0.2], bias=0.4)\n",
    "\n",
    "x = np.array([[0, 0], [0, 1], [1, 0], [1, 1]])\n",
    "y = np.array([1, 0, 0, 0])\n",
    "\n",
    "model_nor.train(x, y)"
   ]
  },
  {
   "cell_type": "markdown",
   "metadata": {
    "id": "ZHufUSPSw8Ay"
   },
   "source": [
    "#### Perceptron (Scikit Learn)"
   ]
  },
  {
   "cell_type": "code",
   "execution_count": 7,
   "metadata": {
    "id": "MFGmOVXHQngs"
   },
   "outputs": [],
   "source": [
    "from sklearn.linear_model import Perceptron"
   ]
  },
  {
   "cell_type": "markdown",
   "metadata": {
    "id": "9jQ_SGuyzFDY"
   },
   "source": [
    "#### AND"
   ]
  },
  {
   "cell_type": "code",
   "execution_count": 8,
   "metadata": {
    "colab": {
     "base_uri": "https://localhost:8080/"
    },
    "id": "DfUTa1TgyJOQ",
    "outputId": "59ebfc1a-0cf8-47ab-f326-8ee8c19c518c"
   },
   "outputs": [
    {
     "data": {
      "text/plain": [
       "array([0, 0, 0, 1])"
      ]
     },
     "execution_count": 8,
     "metadata": {},
     "output_type": "execute_result"
    }
   ],
   "source": [
    "model_and = Perceptron()\n",
    "\n",
    "x = np.array([[0, 0], [0, 1], [1, 0], [1, 1]])\n",
    "y = np.array([0, 0, 0, 1])\n",
    "\n",
    "model_and.fit(x, y)\n",
    "model_and.predict(x)"
   ]
  },
  {
   "cell_type": "markdown",
   "metadata": {
    "id": "qmL7aZcNzP77"
   },
   "source": [
    "#### OR"
   ]
  },
  {
   "cell_type": "code",
   "execution_count": 9,
   "metadata": {
    "colab": {
     "base_uri": "https://localhost:8080/"
    },
    "id": "QJZAQGI_ywUw",
    "outputId": "862cb258-8c5b-4e98-abb1-05afaefec3f9"
   },
   "outputs": [
    {
     "data": {
      "text/plain": [
       "array([0, 1, 1, 1])"
      ]
     },
     "execution_count": 9,
     "metadata": {},
     "output_type": "execute_result"
    }
   ],
   "source": [
    "model_or = Perceptron()\n",
    "\n",
    "x = np.array([[0, 0], [0, 1], [1, 0], [1, 1]])\n",
    "y = np.array([0, 1, 1, 1])\n",
    "\n",
    "model_or.fit(x, y)\n",
    "model_or.predict(x)"
   ]
  },
  {
   "cell_type": "markdown",
   "metadata": {
    "id": "mMZPEsYAzTi5"
   },
   "source": [
    "#### NAND"
   ]
  },
  {
   "cell_type": "code",
   "execution_count": 10,
   "metadata": {
    "colab": {
     "base_uri": "https://localhost:8080/"
    },
    "id": "sVAqmZrAy4-F",
    "outputId": "299cdacf-255d-42ab-b2e3-a3bdee19ee37"
   },
   "outputs": [
    {
     "data": {
      "text/plain": [
       "array([1, 0, 0, 0])"
      ]
     },
     "execution_count": 10,
     "metadata": {},
     "output_type": "execute_result"
    }
   ],
   "source": [
    "model_nand = Perceptron()\n",
    "\n",
    "x = np.array([[0, 0], [0, 1], [1, 0], [1, 1]])\n",
    "y = np.array([1, 1, 1, 0])\n",
    "\n",
    "model_nand.fit(x, y)\n",
    "model_nand.predict(x)"
   ]
  },
  {
   "cell_type": "markdown",
   "metadata": {
    "id": "vQ5Q_4SQzU4p"
   },
   "source": [
    "#### NOR"
   ]
  },
  {
   "cell_type": "code",
   "execution_count": 11,
   "metadata": {
    "colab": {
     "base_uri": "https://localhost:8080/"
    },
    "id": "Ctca0-WXy_MO",
    "outputId": "035c6aea-45f2-48b0-f6db-2cce7b7fa76d"
   },
   "outputs": [
    {
     "data": {
      "text/plain": [
       "array([1, 0, 0, 0])"
      ]
     },
     "execution_count": 11,
     "metadata": {},
     "output_type": "execute_result"
    }
   ],
   "source": [
    "model_nor = Perceptron()\n",
    "\n",
    "x = np.array([[0, 0], [0, 1], [1, 0], [1, 1]])\n",
    "y = np.array([1, 0, 0, 0])\n",
    "\n",
    "model_nor.fit(x, y)\n",
    "model_nor.predict(x)"
   ]
  },
  {
   "cell_type": "code",
   "execution_count": null,
   "metadata": {},
   "outputs": [],
   "source": []
  }
 ],
 "metadata": {
  "colab": {
   "collapsed_sections": [],
   "name": "Lab 5 Perceptron",
   "provenance": []
  },
  "kernelspec": {
   "display_name": "Python 3 (ipykernel)",
   "language": "python",
   "name": "python3"
  },
  "language_info": {
   "codemirror_mode": {
    "name": "ipython",
    "version": 3
   },
   "file_extension": ".py",
   "mimetype": "text/x-python",
   "name": "python",
   "nbconvert_exporter": "python",
   "pygments_lexer": "ipython3",
   "version": "3.9.7"
  }
 },
 "nbformat": 4,
 "nbformat_minor": 1
}
