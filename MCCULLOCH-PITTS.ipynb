{
 "cells": [
  {
   "cell_type": "code",
   "execution_count": 1,
   "id": "f7228aa3",
   "metadata": {},
   "outputs": [],
   "source": [
    " import numpy as np"
   ]
  },
  {
   "cell_type": "code",
   "execution_count": 14,
   "id": "40e678f7",
   "metadata": {},
   "outputs": [
    {
     "name": "stdout",
     "output_type": "stream",
     "text": [
      "Enter the weight-1 : 1\n",
      "Enter the weight-2 : 1\n",
      "f(x) :  [0 1 1 2]\n",
      "Enter the threshold : 2\n",
      "[0 0 0 1]\n",
      "\n",
      "The weights and threshold are correct\n"
     ]
    }
   ],
   "source": [
    "#AND_GATE\n",
    "x1=np.array([0,0,1,1])\n",
    "x2=np.array([0,1,0,1])\n",
    "\n",
    "y=np.array([0,0,0,1]) \n",
    "w1=int(input('Enter the weight-1 : ')) \n",
    "w2=int(input('Enter the weight-2 : ')) \n",
    "fx=x1*w1+x2*w2\n",
    "print('f(x) : ',fx)\n",
    "\n",
    "threshold=int(input('Enter the threshold : ')) \n",
    "y_out=(fx>=threshold).astype(int) \n",
    "print(y_out)\n",
    "if np.all (y==y_out):\n",
    "\n",
    "    print('\\nThe weights and threshold are correct') \n",
    "else:\n",
    "    print('\\nChange the weights and threshold')\n",
    "    \n",
    "#112"
   ]
  },
  {
   "cell_type": "code",
   "execution_count": 9,
   "id": "9b01473f",
   "metadata": {},
   "outputs": [
    {
     "name": "stdout",
     "output_type": "stream",
     "text": [
      "Enter the weight-1 : 1\n",
      "Enter the weight-2 : 1\n",
      "f(x) :  [0 1 1 2]\n",
      "Enter the threshold : 1\n",
      "[0 1 1 1]\n",
      "\n",
      "The weights and threshold are correct\n"
     ]
    }
   ],
   "source": [
    "#OR_GATE\n",
    "x1=np.array([0,0,1,1])\n",
    "x2=np.array([0,1,0,1])\n",
    "\n",
    "y=np.array([0,1,1,1]) \n",
    "w1=int(input('Enter the weight-1 : ')) \n",
    "w2=int(input('Enter the weight-2 : ')) \n",
    "fx=x1*w1+x2*w2\n",
    "print('f(x) : ',fx)\n",
    "\n",
    "threshold=int(input('Enter the threshold : '))\n",
    "y_out=(fx>=threshold).astype(int)\n",
    "print(y_out)\n",
    "if np.all (y==y_out):\n",
    "\n",
    "    print('\\nThe weights and threshold are correct') \n",
    "else:\n",
    "    print('\\nChange the weights and threshold')\n",
    "    \n",
    "#111"
   ]
  },
  {
   "cell_type": "code",
   "execution_count": 10,
   "id": "e0b74474",
   "metadata": {},
   "outputs": [
    {
     "name": "stdout",
     "output_type": "stream",
     "text": [
      "Enter the weight-1 : -1\n",
      "Enter the weight-2 : -1\n",
      "[ 0 -1 -1 -2]\n",
      "Enter the threshold : -1\n",
      "[1 1 1 0]\n",
      "correct weights and threshold\n"
     ]
    }
   ],
   "source": [
    "#NAND_GATE\n",
    "x1=np.array([0,0,1,1])\n",
    "x2=np.array([0,1,0,1])\n",
    "\n",
    "y=np.array([1,1,1,0])\n",
    "\n",
    "w1=int(input('Enter the weight-1 : ')) \n",
    "w2=int(input('Enter the weight-2 : ')) \n",
    "fx=x1*w1+x2*w2\n",
    "print(fx)\n",
    "\n",
    "threshold=int(input('Enter the threshold : ')) \n",
    "y_out=(fx>=threshold).astype(int) \n",
    "print(y_out)\n",
    "if np.all (y==y_out):\n",
    "\n",
    "    print('correct weights and threshold') \n",
    "else:\n",
    "    print('change the weights and threshold')\n",
    "    \n",
    "#-1-1-1"
   ]
  },
  {
   "cell_type": "code",
   "execution_count": 11,
   "id": "94266875",
   "metadata": {},
   "outputs": [
    {
     "name": "stdout",
     "output_type": "stream",
     "text": [
      "Enter the weight-1 : -1\n",
      "Enter the weight-2 : -1\n",
      "[ 0 -1 -1 -2]\n",
      "Enter the threshold : 0\n",
      "[1 0 0 0]\n",
      "correct weights and threshold\n"
     ]
    }
   ],
   "source": [
    "#NOR_GATE\n",
    "x1=np.array([0,0,1,1])\n",
    "x2=np.array([0,1,0,1])\n",
    "\n",
    "y=np.array([1,0,0,0]) \n",
    "w1=int(input('Enter the weight-1 : ')) \n",
    "w2=int(input('Enter the weight-2 : ')) \n",
    "fx=x1*w1+x2*w2\n",
    "print(fx)\n",
    "\n",
    "threshold=int(input('Enter the threshold : '))\n",
    "\n",
    "y_out=(fx>=threshold).astype(int) \n",
    "print(y_out)\n",
    "if np.all (y==y_out):\n",
    "\n",
    "    print('correct weights and threshold') \n",
    "else:\n",
    "    print('change the weights and threshold')\n",
    "    \n",
    "#-1-10    "
   ]
  },
  {
   "cell_type": "code",
   "execution_count": 13,
   "id": "159f2c93",
   "metadata": {},
   "outputs": [
    {
     "name": "stdout",
     "output_type": "stream",
     "text": [
      "Enter the weight : -1\n",
      "[ 0 -1]\n",
      "Enter the threshold : 0\n",
      "[1 0]\n",
      "correct weights and threshold\n"
     ]
    }
   ],
   "source": [
    "#NOR_GATE\n",
    "x=np.array([0,1])\n",
    "y=np.array([1,0]) \n",
    "w=int(input('Enter the weight : ')) \n",
    "fx=x*w\n",
    "print(fx)\n",
    "\n",
    "threshold=int(input('Enter the threshold : ')) \n",
    "y_out=(fx>=threshold).astype(int) \n",
    "print(y_out)\n",
    "if np.all (y==y_out):\n",
    "\n",
    "    print('correct weights and threshold') \n",
    "else:\n",
    "    print('change the weights and threshold')\n",
    "\n",
    "#-10"
   ]
  },
  {
   "cell_type": "code",
   "execution_count": null,
   "id": "85809f88",
   "metadata": {},
   "outputs": [],
   "source": []
  }
 ],
 "metadata": {
  "kernelspec": {
   "display_name": "Python 3 (ipykernel)",
   "language": "python",
   "name": "python3"
  },
  "language_info": {
   "codemirror_mode": {
    "name": "ipython",
    "version": 3
   },
   "file_extension": ".py",
   "mimetype": "text/x-python",
   "name": "python",
   "nbconvert_exporter": "python",
   "pygments_lexer": "ipython3",
   "version": "3.9.12"
  }
 },
 "nbformat": 4,
 "nbformat_minor": 5
}
